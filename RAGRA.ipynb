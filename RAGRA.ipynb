{
 "cells": [
  {
   "cell_type": "code",
   "execution_count": null,
   "id": "6455ef4f",
   "metadata": {},
   "outputs": [],
   "source": [
    "import os\n",
    "from dotenv import load_dotenv"
   ]
  },
  {
   "cell_type": "code",
   "execution_count": null,
   "id": "28677e73",
   "metadata": {},
   "outputs": [],
   "source": [
    "# Load environment variables (for OpenAI API key etc.)\n",
    "load_dotenv()"
   ]
  },
  {
   "cell_type": "code",
   "execution_count": null,
   "id": "de8091cf",
   "metadata": {},
   "outputs": [],
   "source": [
    "# --- NLTK Setup (auto-download missing resources) ---\n",
    "import nltk"
   ]
  },
  {
   "cell_type": "code",
   "execution_count": null,
   "id": "cb779b37",
   "metadata": {},
   "outputs": [],
   "source": [
    "nltk_packages = [\n",
    "    \"punkt\",\n",
    "    \"punkt_tab\",\n",
    "    \"averaged_perceptron_tagger\",\n",
    "    \"wordnet\",\n",
    "    \"omw-1.4\",\n",
    "]"
   ]
  },
  {
   "cell_type": "code",
   "execution_count": null,
   "id": "f8e338b0",
   "metadata": {},
   "outputs": [],
   "source": [
    "for pkg in nltk_packages:\n",
    "    try:\n",
    "        nltk.data.find(pkg)\n",
    "    except LookupError:\n",
    "        nltk.download(pkg)"
   ]
  },
  {
   "cell_type": "code",
   "execution_count": null,
   "id": "73fdae5b",
   "metadata": {},
   "outputs": [],
   "source": [
    "# --- Document Loading ---\n",
    "from langchain_community.document_loaders import UnstructuredPDFLoader"
   ]
  },
  {
   "cell_type": "code",
   "execution_count": null,
   "id": "50c4ca32",
   "metadata": {},
   "outputs": [],
   "source": [
    "file_path = \"./data/snehPaper.pdf\"  # Use forward slashes for portability\n",
    "loader = UnstructuredPDFLoader(file_path)\n",
    "docs = loader.load()"
   ]
  },
  {
   "cell_type": "code",
   "execution_count": null,
   "id": "4d16bd0c",
   "metadata": {},
   "outputs": [],
   "source": [
    "# --- Text Splitting ---\n",
    "from langchain_text_splitters import RecursiveCharacterTextSplitter"
   ]
  },
  {
   "cell_type": "code",
   "execution_count": null,
   "id": "e33c2869",
   "metadata": {},
   "outputs": [],
   "source": [
    "text_splitter = RecursiveCharacterTextSplitter(\n",
    "    chunk_size=1000,   # characters per chunk\n",
    "    chunk_overlap=200, # overlap between chunks\n",
    "    add_start_index=True\n",
    ")\n",
    "all_splits = text_splitter.split_documents(docs)"
   ]
  },
  {
   "cell_type": "code",
   "execution_count": null,
   "id": "e6c874f4",
   "metadata": {},
   "outputs": [],
   "source": [
    "# --- Embeddings & Vector Store ---\n",
    "from langchain_openai import OpenAIEmbeddings\n",
    "embeddings = OpenAIEmbeddings(model=\"text-embedding-3-large\")"
   ]
  },
  {
   "cell_type": "code",
   "execution_count": null,
   "id": "ced097a0",
   "metadata": {},
   "outputs": [],
   "source": [
    "from langchain_core.vectorstores import InMemoryVectorStore\n",
    "vector_store = InMemoryVectorStore(embeddings)"
   ]
  },
  {
   "cell_type": "code",
   "execution_count": null,
   "id": "33fcb352",
   "metadata": {},
   "outputs": [],
   "source": [
    "# Store chunks in vectorstore\n",
    "document_ids = vector_store.add_documents(documents=all_splits)"
   ]
  },
  {
   "cell_type": "code",
   "execution_count": null,
   "id": "26bd0872",
   "metadata": {},
   "outputs": [],
   "source": [
    "# --- Query ---\n",
    "# question = \"Tell me about Randheer Singh?\"\n",
    "question = \"What are the major contribution of this paper?\""
   ]
  },
  {
   "cell_type": "code",
   "execution_count": null,
   "id": "cb71cbc7",
   "metadata": {},
   "outputs": [],
   "source": [
    "# Retrieve relevant chunks\n",
    "search_results = vector_store.similarity_search_with_score(question, k=10)\n",
    "doc_content = \"\\n\\n\".join(doc.page_content for (doc, score) in search_results)"
   ]
  },
  {
   "cell_type": "code",
   "execution_count": null,
   "id": "e7d2103d",
   "metadata": {},
   "outputs": [],
   "source": [
    "# --- RAG Prompt Template ---\n",
    "prompt_template = \"\"\"You are an assistant to a Mathematician. \n",
    "Use the following pieces of retrieved context to answer the question. \n",
    "Use no more than 500 words to summarize your answer.\n",
    "\n",
    "Question: {question} \n",
    "Context: {context} \n",
    "Answer:\"\"\""
   ]
  },
  {
   "cell_type": "code",
   "execution_count": null,
   "id": "1ff0cb3f",
   "metadata": {},
   "outputs": [],
   "source": [
    "# --- LLM Setup ---\n",
    "from langchain.chat_models import init_chat_model\n",
    "llm = init_chat_model(\"o1-mini\", model_provider=\"openai\")"
   ]
  },
  {
   "cell_type": "code",
   "execution_count": null,
   "id": "c0bc28a9",
   "metadata": {},
   "outputs": [],
   "source": [
    "# Generate response\n",
    "response = llm.invoke(prompt_template.format(\n",
    "    context=doc_content,\n",
    "    question=question\n",
    "))"
   ]
  },
  {
   "cell_type": "code",
   "execution_count": null,
   "id": "88853cfc",
   "metadata": {},
   "outputs": [],
   "source": [
    "# --- Output ---\n",
    "print(\"\\n--- Final Answer ---\\n\")\n",
    "print(response.content)"
   ]
  }
 ],
 "metadata": {
  "jupytext": {
   "cell_metadata_filter": "-all",
   "main_language": "python",
   "notebook_metadata_filter": "-all"
  }
 },
 "nbformat": 4,
 "nbformat_minor": 5
}
