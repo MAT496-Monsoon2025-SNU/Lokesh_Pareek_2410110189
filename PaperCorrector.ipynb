{
 "cells": [
  {
   "cell_type": "markdown",
   "id": "cd3e6e30",
   "metadata": {},
   "source": [
    "PaperCorrector.py"
   ]
  },
  {
   "cell_type": "code",
   "execution_count": null,
   "id": "cea76bb0",
   "metadata": {},
   "outputs": [],
   "source": [
    "from dotenv import load_dotenv\n",
    "from langchain.chat_models import init_chat_model"
   ]
  },
  {
   "cell_type": "code",
   "execution_count": null,
   "id": "af9a8dea",
   "metadata": {},
   "outputs": [],
   "source": [
    "# Load environment variables (API key from .env)\n",
    "load_dotenv()"
   ]
  },
  {
   "cell_type": "code",
   "execution_count": null,
   "id": "967fbb5a",
   "metadata": {},
   "outputs": [],
   "source": [
    "# ✅ Use a currently supported Groq model\n",
    "model = init_chat_model(\"llama-3.3-70b-versatile\", model_provider=\"groq\")"
   ]
  },
  {
   "cell_type": "code",
   "execution_count": null,
   "id": "1777fd32",
   "metadata": {},
   "outputs": [],
   "source": [
    "# Grading prompt template\n",
    "grading_prompt = \"\"\"\n",
    "You are an assignment grader. Compare the student's answer with the teacher's ideal answer. \n",
    "If the student's answer fully matches the teacher's, award 10 marks. Otherwise, assign partial marks from 0 to 9.\n",
    "\n",
    "Provide your evaluation in the format:\n",
    "\n",
    "## Question  \n",
    "{question}  \n",
    "## IdealAnswer  \n",
    "{ideal_answer}  \n",
    "## StudentAnswer  \n",
    "{student_answer}  \n",
    "## Marks:{{marks}}  \n",
    "## Marks Explanation  \n",
    "{{reason_for_deduction}}  \n",
    "\"\"\""
   ]
  },
  {
   "cell_type": "code",
   "execution_count": null,
   "id": "24969b1c",
   "metadata": {},
   "outputs": [],
   "source": [
    "# ---------- Example 1 ----------\n",
    "response1 = model.invoke(grading_prompt.format(\n",
    "    question=\"What is the capital of Japan?\",\n",
    "    ideal_answer=\"The capital of Japan is Tokyo.\",\n",
    "    student_answer=\"Tokyo\"\n",
    "))\n",
    "print(\"\\n--- Example 1 ---\\n\")\n",
    "print(response1.content)"
   ]
  },
  {
   "cell_type": "code",
   "execution_count": null,
   "id": "d32be17a",
   "metadata": {},
   "outputs": [],
   "source": [
    "# ---------- Example 2 ----------\n",
    "response2 = model.invoke(grading_prompt.format(\n",
    "    question=\"Who discovered gravity?\",\n",
    "    ideal_answer=\"Sir Isaac Newton discovered gravity.\",\n",
    "    student_answer=\"Newton\"\n",
    "))\n",
    "print(\"\\n--- Example 2 ---\\n\")\n",
    "print(response2.content)"
   ]
  },
  {
   "cell_type": "code",
   "execution_count": null,
   "id": "beb5b97d",
   "metadata": {},
   "outputs": [],
   "source": [
    "# ---------- Example 3 ----------\n",
    "response3 = model.invoke(grading_prompt.format(\n",
    "    question=\"Explain photosynthesis in one line.\",\n",
    "    ideal_answer=\"Photosynthesis is the process by which green plants use sunlight to make food from carbon dioxide and water.\",\n",
    "    student_answer=\"Plants make food using sunlight.\"\n",
    "))\n",
    "print(\"\\n--- Example 3 ---\\n\")\n",
    "print(response3.content)"
   ]
  },
  {
   "cell_type": "code",
   "execution_count": null,
   "id": "c9946075",
   "metadata": {},
   "outputs": [],
   "source": [
    "# ---------- Example 4 ----------\n",
    "response4 = model.invoke(grading_prompt.format(\n",
    "    question=\"In which year did India gain independence?\",\n",
    "    ideal_answer=\"India gained independence in 1947.\",\n",
    "    student_answer=\"1947\"\n",
    "))\n",
    "print(\"\\n--- Example 4 ---\\n\")\n",
    "print(response4.content)"
   ]
  }
 ],
 "metadata": {
  "jupytext": {
   "cell_metadata_filter": "-all",
   "main_language": "python",
   "notebook_metadata_filter": "-all"
  }
 },
 "nbformat": 4,
 "nbformat_minor": 5
}
