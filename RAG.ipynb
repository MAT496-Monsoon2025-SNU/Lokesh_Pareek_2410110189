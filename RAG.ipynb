{
 "cells": [
  {
   "cell_type": "code",
   "execution_count": null,
   "id": "549cf2f7",
   "metadata": {},
   "outputs": [],
   "source": [
    "from dotenv import load_dotenv\n",
    "import os\n",
    "from langchain.chat_models import init_chat_model"
   ]
  },
  {
   "cell_type": "code",
   "execution_count": null,
   "id": "a63f438a",
   "metadata": {},
   "outputs": [],
   "source": [
    "# Load environment variables\n",
    "load_dotenv()\n",
    "api_key = os.getenv(\"GROQ_API_KEY\")\n",
    "if not api_key:\n",
    "    raise SystemExit(\"GROQ_API_KEY not set in .env or environment.\")"
   ]
  },
  {
   "cell_type": "code",
   "execution_count": null,
   "id": "167e7e73",
   "metadata": {},
   "outputs": [],
   "source": [
    "# Initialize the model\n",
    "model = init_chat_model(\"llama-3.3-70b-versatile\", model_provider=\"groq\")"
   ]
  },
  {
   "cell_type": "code",
   "execution_count": null,
   "id": "18e2c3c9",
   "metadata": {},
   "outputs": [],
   "source": [
    "# Define the context (longer news article)\n",
    "news_context = \"\"\"\n",
    "India’s August merchandise trade deficit narrowed in August to US$26.49 billion from US$27.35 billion in July, as a drop in exports after U.S. President Donald Trump hiked tariffs on Indian goods was offset by slowing imports.\n",
    "The U.S. imposed an additional 25% tariff on Indian goods from August 27 over New Delhi’s continued purchases of Russian oil, bringing total levies on Indian exports to 50% — among the highest for any U.S. trading partner.\n",
    "Exports to the U.S. fell to $6.86 billion in August from $8.01 billion in July, while total goods exports dropped to US$35.10 billion from US$37.24 billion.\n",
    "The trade deficit narrowed to US$26.49 billion.\n",
    "Trade talks between India and the U.S. are set in New Delhi.\n",
    "\"\"\""
   ]
  },
  {
   "cell_type": "code",
   "execution_count": null,
   "id": "0f63063c",
   "metadata": {},
   "outputs": [],
   "source": [
    "# Build a RAG-style prompt\n",
    "prompt_template = \"\"\"You are an assistant for question-answering tasks. Use the following context to answer the question.\n",
    "If you don’t know the answer, just say that you don’t know. Keep your answer concise (3 sentences max).\n",
    "\n",
    "Context:\n",
    "{context}\n",
    "\n",
    "Question:\n",
    "{question}\n",
    "\n",
    "Answer:\n",
    "\"\"\""
   ]
  },
  {
   "cell_type": "code",
   "execution_count": null,
   "id": "b61fbdb1",
   "metadata": {},
   "outputs": [],
   "source": [
    "# Example question\n",
    "question = \"Why did India's trade deficit narrow in August?\""
   ]
  },
  {
   "cell_type": "code",
   "execution_count": null,
   "id": "4ae6eb8b",
   "metadata": {},
   "outputs": [],
   "source": [
    "prompt = prompt_template.format(context=news_context, question=question)"
   ]
  },
  {
   "cell_type": "code",
   "execution_count": null,
   "id": "e0a64aec",
   "metadata": {},
   "outputs": [],
   "source": [
    "# Call the model\n",
    "response = model.invoke(prompt)"
   ]
  },
  {
   "cell_type": "code",
   "execution_count": null,
   "id": "b6e96f7e",
   "metadata": {},
   "outputs": [],
   "source": [
    "# Print the result\n",
    "print(\"Question:\", question)\n",
    "print(\"Answer:\", response.content)"
   ]
  }
 ],
 "metadata": {
  "jupytext": {
   "cell_metadata_filter": "-all",
   "main_language": "python",
   "notebook_metadata_filter": "-all"
  }
 },
 "nbformat": 4,
 "nbformat_minor": 5
}
