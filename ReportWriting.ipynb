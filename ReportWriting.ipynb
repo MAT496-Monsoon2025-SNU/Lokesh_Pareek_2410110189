{
 "cells": [
  {
   "cell_type": "code",
   "execution_count": null,
   "id": "b56fa18f",
   "metadata": {},
   "outputs": [],
   "source": [
    "from dotenv import load_dotenv\n",
    "from langchain.chat_models import init_chat_model"
   ]
  },
  {
   "cell_type": "code",
   "execution_count": null,
   "id": "12da5784",
   "metadata": {},
   "outputs": [],
   "source": [
    "# Load API key from .env\n",
    "load_dotenv()"
   ]
  },
  {
   "cell_type": "code",
   "execution_count": null,
   "id": "0f5456d9",
   "metadata": {},
   "outputs": [],
   "source": [
    "# Initialize model (Groq + LangChain)\n",
    "model = init_chat_model(\"llama-3.3-70b-versatile\", model_provider=\"groq\")"
   ]
  },
  {
   "cell_type": "code",
   "execution_count": null,
   "id": "e24fe221",
   "metadata": {},
   "outputs": [],
   "source": [
    "# Report template\n",
    "prompt_template = \"\"\"\n",
    "You are an expert report writer.\n",
    "Write a report in the following format:\n",
    "\n",
    "Title: <Give a clear title>\n",
    "Introduction: <Brief introduction>\n",
    "Main Body: <Detailed discussion, 2-3 paragraphs>\n",
    "Conclusion: <Concise conclusion>\n",
    "\n",
    "Topic: {topic}\n",
    "\"\"\""
   ]
  },
  {
   "cell_type": "code",
   "execution_count": null,
   "id": "c2c4b308",
   "metadata": {},
   "outputs": [],
   "source": [
    "# Example topic\n",
    "topic = \"Impact of Artificial Intelligence on Education\""
   ]
  },
  {
   "cell_type": "code",
   "execution_count": null,
   "id": "e3bab569",
   "metadata": {},
   "outputs": [],
   "source": [
    "# Fill template\n",
    "prompt = prompt_template.format(topic=topic)"
   ]
  },
  {
   "cell_type": "code",
   "execution_count": null,
   "id": "21b235e3",
   "metadata": {},
   "outputs": [],
   "source": [
    "# Generate report\n",
    "response = model.invoke(prompt)"
   ]
  },
  {
   "cell_type": "code",
   "execution_count": null,
   "id": "855b566f",
   "metadata": {},
   "outputs": [],
   "source": [
    "print(\"Generated Report:\\n\")\n",
    "print(response.content)"
   ]
  }
 ],
 "metadata": {
  "jupytext": {
   "cell_metadata_filter": "-all",
   "main_language": "python",
   "notebook_metadata_filter": "-all"
  }
 },
 "nbformat": 4,
 "nbformat_minor": 5
}
